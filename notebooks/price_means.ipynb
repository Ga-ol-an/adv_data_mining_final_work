{
 "cells": [
  {
   "cell_type": "code",
   "execution_count": 1,
   "id": "b1653ceb",
   "metadata": {},
   "outputs": [],
   "source": [
    "import pandas as pd\n",
    "import numpy as np\n",
    "import matplotlib.pyplot as plt"
   ]
  },
  {
   "cell_type": "code",
   "execution_count": 37,
   "id": "ba770dbd",
   "metadata": {
    "scrolled": true
   },
   "outputs": [
    {
     "data": {
      "text/plain": [
       "(12761, 17)"
      ]
     },
     "execution_count": 37,
     "metadata": {},
     "output_type": "execute_result"
    }
   ],
   "source": [
    "df = pd.read_csv(\"../outputs/db_filtrado_04062023.csv\")\n",
    "df.shape"
   ]
  },
  {
   "cell_type": "code",
   "execution_count": 7,
   "id": "e6788310",
   "metadata": {},
   "outputs": [
    {
     "data": {
      "text/plain": [
       "array(['Nivus', 'Renegade', 'Yaris Hatch', 'Toro', 'Ranger Cab. Dupla',\n",
       "       'HB20', 'Kwid', '2008', 'Gol', 'HR-V', 'Argo', 'T-Cross',\n",
       "       'Sandero', 'Logan', 'S 10 Cab. Dupla', 'Strada Cab. Simples',\n",
       "       'Mobi', 'Virtus', 'HB20 S', 'XC60', 'Spin', 'Creta',\n",
       "       'Strada Cab Dupla', 'Duster', 'Hilux CD', 'C4 Cactus',\n",
       "       'Onix Sedan', 'Onix Hatch', 'Kicks', 'Corolla', 'Tiguan', 'L200',\n",
       "       'Voyage', 'Saveiro Cab. Simples', 'Tracker', 'Q3',\n",
       "       'Fiorino Furgão', 'Civic', 'Compass', 'Cronos', 'Uno',\n",
       "       'Saveiro Cab Dupla', 'Up!', 'Polo Hatch', 'Captur', 'Versa',\n",
       "       'City Sedan', 'Frontier', '208', 'Jimny', '320i', 'Doblo',\n",
       "       'Amarok', 'Fox', 'X1', 'KA Hatch', 'Siena Grand', 'HB20 X',\n",
       "       'KA Sedan', 'EcoSport', 'Cruze Sedan', 'Tucson', 'Cooper', 'Joy',\n",
       "       'Montana', 'Etios Sedan', 'Hilux SW4', 'IX35', 'Jetta', 'C 180',\n",
       "       'Outlander', 'WR-V', 'Oroch', 'A3', 'ASX', 'Discovery Sport',\n",
       "       'Fit', 'A 200', '3008', 'March', 'Range Rover Evoque', 'Prisma',\n",
       "       'Cruze Hatch', 'Cobalt', 'Sportage', 'Vitara', 'Etios Hatch',\n",
       "       'Sentra', 'Strada Cab. Est.', 'Golf', 'T4', 'A4', 'Soul',\n",
       "       'GLA 200', 'Palio Weekend', 'Pajero Full', 'AirCross', 'A3 Sedan',\n",
       "       'RAV 4', 'Fiesta Hatch', 'Lancer', 'Focus Sedan', 'C4 Lounge',\n",
       "       'Focus Hatch', 'C 250', 'Sorento', 'Fusion', 'Saveiro Cab. Est.',\n",
       "       'Space Fox', 'Fiesta Sedan', 'Palio', 'Punto', 'C 200',\n",
       "       'Pajero Dakar', 'C3', 'I30', 'Bravo', 'Clio Hatch', '500',\n",
       "       'Classic', 'Idea', 'CrossFox', 'Siena', 'A1', 'Picanto',\n",
       "       'Grand Vitara', 'CR-V', 'Celta', 'Pajero TR4', '207',\n",
       "       'Freelander 2', 'Agile', 'Corsa Hatch'], dtype=object)"
      ]
     },
     "execution_count": 7,
     "metadata": {},
     "output_type": "execute_result"
    }
   ],
   "source": [
    "df[\"modelo\"].unique()"
   ]
  },
  {
   "cell_type": "code",
   "execution_count": 17,
   "id": "94f3a2a3",
   "metadata": {},
   "outputs": [
    {
     "name": "stdout",
     "output_type": "stream",
     "text": [
      "modelo\n",
      "2008            69712.999730\n",
      "207             22479.032258\n",
      "208             58457.690909\n",
      "3008           121829.444444\n",
      "320i           146113.602041\n",
      "                   ...      \n",
      "Voyage          50518.111556\n",
      "WR-V            88306.956522\n",
      "X1             136768.718750\n",
      "XC60           141603.076923\n",
      "Yaris Hatch     82392.631579\n",
      "Name: preco, Length: 133, dtype: float64\n"
     ]
    }
   ],
   "source": [
    "sum_model_price = df.groupby([\"modelo\"])[\"preco\"].sum()\n",
    "number_of_cars_of_model = df.groupby([\"modelo\"])[\"preco\"].count()\n",
    "models_mean =  sum_model_price / number_of_cars_of_model \n",
    "print(models_mean)"
   ]
  },
  {
   "cell_type": "code",
   "execution_count": 81,
   "id": "a9bcb178",
   "metadata": {},
   "outputs": [
    {
     "data": {
      "text/html": [
       "<div>\n",
       "<style scoped>\n",
       "    .dataframe tbody tr th:only-of-type {\n",
       "        vertical-align: middle;\n",
       "    }\n",
       "\n",
       "    .dataframe tbody tr th {\n",
       "        vertical-align: top;\n",
       "    }\n",
       "\n",
       "    .dataframe thead th {\n",
       "        text-align: right;\n",
       "    }\n",
       "</style>\n",
       "<table border=\"1\" class=\"dataframe\">\n",
       "  <thead>\n",
       "    <tr style=\"text-align: right;\">\n",
       "      <th></th>\n",
       "      <th>modelo</th>\n",
       "      <th>media-modelo</th>\n",
       "    </tr>\n",
       "  </thead>\n",
       "  <tbody>\n",
       "    <tr>\n",
       "      <th>0</th>\n",
       "      <td>Nivus</td>\n",
       "      <td>115423.428571</td>\n",
       "    </tr>\n",
       "    <tr>\n",
       "      <th>1</th>\n",
       "      <td>Renegade</td>\n",
       "      <td>92539.360307</td>\n",
       "    </tr>\n",
       "    <tr>\n",
       "      <th>2</th>\n",
       "      <td>Renegade</td>\n",
       "      <td>92539.360307</td>\n",
       "    </tr>\n",
       "    <tr>\n",
       "      <th>3</th>\n",
       "      <td>Yaris Hatch</td>\n",
       "      <td>82392.631579</td>\n",
       "    </tr>\n",
       "    <tr>\n",
       "      <th>4</th>\n",
       "      <td>Toro</td>\n",
       "      <td>126845.829943</td>\n",
       "    </tr>\n",
       "    <tr>\n",
       "      <th>...</th>\n",
       "      <td>...</td>\n",
       "      <td>...</td>\n",
       "    </tr>\n",
       "    <tr>\n",
       "      <th>12756</th>\n",
       "      <td>Palio Weekend</td>\n",
       "      <td>41646.315789</td>\n",
       "    </tr>\n",
       "    <tr>\n",
       "      <th>12757</th>\n",
       "      <td>Palio Weekend</td>\n",
       "      <td>41646.315789</td>\n",
       "    </tr>\n",
       "    <tr>\n",
       "      <th>12758</th>\n",
       "      <td>Punto</td>\n",
       "      <td>41332.344086</td>\n",
       "    </tr>\n",
       "    <tr>\n",
       "      <th>12759</th>\n",
       "      <td>Cooper</td>\n",
       "      <td>113685.000000</td>\n",
       "    </tr>\n",
       "    <tr>\n",
       "      <th>12760</th>\n",
       "      <td>Pajero Dakar</td>\n",
       "      <td>122372.227273</td>\n",
       "    </tr>\n",
       "  </tbody>\n",
       "</table>\n",
       "<p>12761 rows × 2 columns</p>\n",
       "</div>"
      ],
      "text/plain": [
       "              modelo   media-modelo\n",
       "0              Nivus  115423.428571\n",
       "1           Renegade   92539.360307\n",
       "2           Renegade   92539.360307\n",
       "3        Yaris Hatch   82392.631579\n",
       "4               Toro  126845.829943\n",
       "...              ...            ...\n",
       "12756  Palio Weekend   41646.315789\n",
       "12757  Palio Weekend   41646.315789\n",
       "12758          Punto   41332.344086\n",
       "12759         Cooper  113685.000000\n",
       "12760   Pajero Dakar  122372.227273\n",
       "\n",
       "[12761 rows x 2 columns]"
      ]
     },
     "execution_count": 81,
     "metadata": {},
     "output_type": "execute_result"
    }
   ],
   "source": [
    "def add_mean_per_model(row):\n",
    "    return models_mean[row[\"modelo\"]]\n",
    "\n",
    "df[\"media-modelo\"] = df.apply(add_mean_per_model, axis=1)\n",
    "models_and_prices = df[[\"modelo\", \"media-modelo\"]]\n",
    "models_and_prices"
   ]
  },
  {
   "cell_type": "code",
   "execution_count": 82,
   "id": "08efb6b0",
   "metadata": {},
   "outputs": [],
   "source": [
    "models_and_prices_short = models_and_prices.sort_values(by=[\"media-modelo\"], ascending=False).groupby(\"modelo\").head(1)[:10]"
   ]
  },
  {
   "cell_type": "code",
   "execution_count": 83,
   "id": "9bb6c78e",
   "metadata": {},
   "outputs": [
    {
     "data": {
      "text/html": [
       "<div>\n",
       "<style scoped>\n",
       "    .dataframe tbody tr th:only-of-type {\n",
       "        vertical-align: middle;\n",
       "    }\n",
       "\n",
       "    .dataframe tbody tr th {\n",
       "        vertical-align: top;\n",
       "    }\n",
       "\n",
       "    .dataframe thead th {\n",
       "        text-align: right;\n",
       "    }\n",
       "</style>\n",
       "<table border=\"1\" class=\"dataframe\">\n",
       "  <thead>\n",
       "    <tr style=\"text-align: right;\">\n",
       "      <th></th>\n",
       "      <th>modelo</th>\n",
       "      <th>media-modelo</th>\n",
       "    </tr>\n",
       "  </thead>\n",
       "  <tbody>\n",
       "    <tr>\n",
       "      <th>3542</th>\n",
       "      <td>Hilux SW4</td>\n",
       "      <td>209661.483333</td>\n",
       "    </tr>\n",
       "    <tr>\n",
       "      <th>8657</th>\n",
       "      <td>Discovery Sport</td>\n",
       "      <td>190681.333333</td>\n",
       "    </tr>\n",
       "    <tr>\n",
       "      <th>690</th>\n",
       "      <td>Hilux CD</td>\n",
       "      <td>178935.031120</td>\n",
       "    </tr>\n",
       "    <tr>\n",
       "      <th>8970</th>\n",
       "      <td>Pajero Full</td>\n",
       "      <td>163925.652174</td>\n",
       "    </tr>\n",
       "    <tr>\n",
       "      <th>8343</th>\n",
       "      <td>C 250</td>\n",
       "      <td>153194.117647</td>\n",
       "    </tr>\n",
       "    <tr>\n",
       "      <th>12691</th>\n",
       "      <td>T4</td>\n",
       "      <td>151979.599600</td>\n",
       "    </tr>\n",
       "    <tr>\n",
       "      <th>4372</th>\n",
       "      <td>Amarok</td>\n",
       "      <td>151894.884058</td>\n",
       "    </tr>\n",
       "    <tr>\n",
       "      <th>5103</th>\n",
       "      <td>S 10 Cab. Dupla</td>\n",
       "      <td>149412.006494</td>\n",
       "    </tr>\n",
       "    <tr>\n",
       "      <th>9407</th>\n",
       "      <td>Range Rover Evoque</td>\n",
       "      <td>146821.338983</td>\n",
       "    </tr>\n",
       "    <tr>\n",
       "      <th>7614</th>\n",
       "      <td>320i</td>\n",
       "      <td>146113.602041</td>\n",
       "    </tr>\n",
       "  </tbody>\n",
       "</table>\n",
       "</div>"
      ],
      "text/plain": [
       "                   modelo   media-modelo\n",
       "3542            Hilux SW4  209661.483333\n",
       "8657      Discovery Sport  190681.333333\n",
       "690              Hilux CD  178935.031120\n",
       "8970          Pajero Full  163925.652174\n",
       "8343                C 250  153194.117647\n",
       "12691                  T4  151979.599600\n",
       "4372               Amarok  151894.884058\n",
       "5103      S 10 Cab. Dupla  149412.006494\n",
       "9407   Range Rover Evoque  146821.338983\n",
       "7614                 320i  146113.602041"
      ]
     },
     "execution_count": 83,
     "metadata": {},
     "output_type": "execute_result"
    }
   ],
   "source": [
    "models_and_prices_short"
   ]
  },
  {
   "cell_type": "code",
   "execution_count": 85,
   "id": "e82f8604",
   "metadata": {},
   "outputs": [
    {
     "data": {
      "image/png": "[encoded data removed]",
      "text/plain": [
       "<Figure size 640x480 with 1 Axes>"
      ]
     },
     "metadata": {},
     "output_type": "display_data"
    }
   ],
   "source": [
    "fig, ax = plt.subplots(1, 1)\n",
    "ax.set_title(\"Preço médio por modelo em reais\")\n",
    "ax.barh(models_and_prices_short[\"modelo\"], models_and_prices_short[\"media-modelo\"])\n",
    "ax.invert_yaxis()"
   ]
  }
 ],
 "metadata": {
  "kernelspec": {
   "display_name": "Python 3 (ipykernel)",
   "language": "python",
   "name": "python3"
  },
  "language_info": {
   "codemirror_mode": {
    "name": "ipython",
    "version": 3
   },
   "file_extension": ".py",
   "mimetype": "text/x-python",
   "name": "python",
   "nbconvert_exporter": "python",
   "pygments_lexer": "ipython3",
   "version": "3.10.4"
  }
 },
 "nbformat": 4,
 "nbformat_minor": 5
}
